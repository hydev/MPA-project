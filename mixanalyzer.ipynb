{
 "cells": [
  {
   "cell_type": "markdown",
   "metadata": {},
   "source": [
    "#Imports"
   ]
  },
  {
   "cell_type": "code",
   "execution_count": 1,
   "metadata": {
    "collapsed": false
   },
   "outputs": [
    {
     "name": "stderr",
     "output_type": "stream",
     "text": [
      "C:\\Users\\Arnulf\\Anaconda3\\lib\\site-packages\\librosa\\core\\audio.py:37: UserWarning: Could not import scikits.samplerate. Falling back to scipy.signal\n",
      "  warnings.warn('Could not import scikits.samplerate. '\n"
     ]
    }
   ],
   "source": [
    "import librosa\n",
    "import audioread\n",
    "import numpy as np\n",
    "#import scipy\n",
    "import collections\n",
    "import matplotlib.pyplot as plt\n",
    "import os.path\n",
    "#import IPython.display\n",
    "%matplotlib inline"
   ]
  },
  {
   "cell_type": "markdown",
   "metadata": {},
   "source": [
    "#Definitions"
   ]
  },
  {
   "cell_type": "code",
   "execution_count": 72,
   "metadata": {
    "collapsed": true
   },
   "outputs": [],
   "source": [
    "filename = \"C:\\\\Users\\\\Arnulf\\\\Music\\\\Enjoy of SHINGO NAKAMURA.m4a\"\n",
    "sr = 16000\n",
    "framesize = 2**12\n",
    "n_blocks = 64\n",
    "feature_dim = 84\n",
    "\n",
    "kernel_size = 40\n",
    "\n",
    "feature_buffer = collections.deque() #maxlen=horizon * n_blocks\n",
    "rec_buffer = collections.deque() "
   ]
  },
  {
   "cell_type": "markdown",
   "metadata": {},
   "source": [
    "#Functions"
   ]
  },
  {
   "cell_type": "code",
   "execution_count": 3,
   "metadata": {
    "collapsed": true
   },
   "outputs": [],
   "source": [
    "def get_audiofile_duration(file):\n",
    "    with audioread.audio_open(file) as f:\n",
    "        return f.duration"
   ]
  },
  {
   "cell_type": "code",
   "execution_count": 5,
   "metadata": {
    "collapsed": true
   },
   "outputs": [],
   "source": [
    "def load(path, sr=None, mono=True, offset=0.0, duration=None,\n",
    "         dtype=np.float32):\n",
    "    \n",
    "    y = []\n",
    "    with audioread.audio_open(os.path.realpath(path)) as input_file:\n",
    "        sr_native = input_file.samplerate\n",
    "        n_channels = input_file.channels\n",
    "\n",
    "        s_start = int(np.round(sr_native * offset)) * n_channels\n",
    "\n",
    "        if duration is None:\n",
    "            s_end = np.inf\n",
    "        else:\n",
    "            s_end = s_start + (int(np.round(sr_native * duration))\n",
    "                               * n_channels)\n",
    "\n",
    "        n = 0\n",
    "\n",
    "        for frame in input_file:\n",
    "            frame = librosa.util.buf_to_float(frame, dtype=dtype)\n",
    "            n_prev = n\n",
    "            n = n + len(frame)\n",
    "\n",
    "            if n < s_start:\n",
    "                # offset is after the current frame\n",
    "                # keep reading\n",
    "                continue\n",
    "\n",
    "            if s_end < n_prev:\n",
    "                # we're off the end.  stop reading\n",
    "                break\n",
    "\n",
    "            if s_end < n:\n",
    "                # the end is in this frame.  crop.\n",
    "                frame = frame[:s_end - n_prev]\n",
    "\n",
    "            if n_prev <= s_start <= n:\n",
    "                # beginning is in this frame\n",
    "                frame = frame[(s_start - n_prev):]\n",
    "\n",
    "            # tack on the current frame\n",
    "            y.append(frame)\n",
    "\n",
    "    if y:\n",
    "        y = np.concatenate(y)\n",
    "\n",
    "        if n_channels > 1:\n",
    "            y = y.reshape((-1, 2)).T\n",
    "            if mono:\n",
    "                y = librosa.core.to_mono(y)\n",
    "\n",
    "        if sr is not None:\n",
    "            y = librosa.core.resample(y, sr_native, sr)\n",
    "\n",
    "        else:\n",
    "            sr = sr_native\n",
    "\n",
    "    # Final cleanup for dtype and contiguity\n",
    "    y = np.ascontiguousarray(y, dtype=dtype)\n",
    "\n",
    "    return (y, sr)"
   ]
  },
  {
   "cell_type": "code",
   "execution_count": 9,
   "metadata": {
    "collapsed": true
   },
   "outputs": [],
   "source": [
    "def create_kernel(size):\n",
    "    kernel = np.zeros([2*kernel_size+1, 2*kernel_size+1], dtype='int')\n",
    "    kernel[:kernel_size, :kernel_size] = 1\n",
    "    kernel[kernel_size+1:, kernel_size+1:] = 1\n",
    "    kernel[kernel_size+1:, :kernel_size] = -1\n",
    "    kernel[:kernel_size, kernel_size+1:] = -1\n",
    "    return kernel"
   ]
  },
  {
   "cell_type": "code",
   "execution_count": 10,
   "metadata": {
    "collapsed": true
   },
   "outputs": [],
   "source": [
    "def correlate2d_diagonal(matrix, kernel):\n",
    "    assert np.shape(matrix)[0] == np.shape(matrix)[1]\n",
    "    assert np.shape(kernel)[0] == np.shape(kernel)[1]\n",
    "    length = np.shape(matrix)[0]\n",
    "    L = np.shape(kernel)[0]//2\n",
    "    \n",
    "    result = np.zeros(length)\n",
    "    for i in range(length):\n",
    "        for k in range(-L, L):\n",
    "            if i+k < 0 or i+k >= length:\n",
    "                break\n",
    "            for l in range(-L, L):\n",
    "                if i+l < 0 or i+l >= length:\n",
    "                    break\n",
    "                result[i] = result[i] + matrix[i+l, i+k] * kernel[L+l, L+k]\n",
    "    return result"
   ]
  },
  {
   "cell_type": "markdown",
   "metadata": {},
   "source": [
    "# Main Program"
   ]
  },
  {
   "cell_type": "code",
   "execution_count": 82,
   "metadata": {
    "collapsed": false
   },
   "outputs": [
    {
     "name": "stdout",
     "output_type": "stream",
     "text": [
      "@block:  0.0\n",
      "@block:  16.384\n",
      "@block:  32.768\n",
      "@block:  49.152\n",
      "@block:  65.536\n",
      "@block:  81.92\n"
     ]
    },
    {
     "ename": "ValueError",
     "evalue": "could not broadcast input array from shape (0) into shape (256,256)",
     "output_type": "error",
     "traceback": [
      "\u001b[1;31m---------------------------------------------------------------------------\u001b[0m",
      "\u001b[1;31mValueError\u001b[0m                                Traceback (most recent call last)",
      "\u001b[1;32m<ipython-input-82-1d79588e1e0f>\u001b[0m in \u001b[0;36m<module>\u001b[1;34m()\u001b[0m\n\u001b[0;32m     37\u001b[0m         \u001b[0mnovelty_calc_matrix\u001b[0m\u001b[1;33m[\u001b[0m\u001b[1;33m:\u001b[0m\u001b[0mhorizon\u001b[0m\u001b[1;33m,\u001b[0m \u001b[1;33m:\u001b[0m\u001b[0mhorizon\u001b[0m\u001b[1;33m]\u001b[0m \u001b[1;33m=\u001b[0m \u001b[1;33m[\u001b[0m\u001b[0mrec_buffer\u001b[0m\u001b[1;33m.\u001b[0m\u001b[0mpopleft\u001b[0m\u001b[1;33m(\u001b[0m\u001b[1;33m)\u001b[0m \u001b[1;32mfor\u001b[0m \u001b[0mx\u001b[0m \u001b[1;32min\u001b[0m \u001b[0mrange\u001b[0m\u001b[1;33m(\u001b[0m\u001b[1;36m0\u001b[0m\u001b[1;33m,\u001b[0m \u001b[0mhorizon\u001b[0m\u001b[1;33m)\u001b[0m\u001b[1;33m]\u001b[0m\u001b[1;33m\u001b[0m\u001b[0m\n\u001b[0;32m     38\u001b[0m         \u001b[0mnovelty_calc_matrix\u001b[0m\u001b[1;33m[\u001b[0m\u001b[0mhorizon_step\u001b[0m\u001b[1;33m:\u001b[0m\u001b[0mhorizon\u001b[0m\u001b[1;33m+\u001b[0m\u001b[0mhorizon_step\u001b[0m\u001b[1;33m,\u001b[0m \u001b[0mhorizon_step\u001b[0m\u001b[1;33m:\u001b[0m\u001b[0mhorizon\u001b[0m\u001b[1;33m+\u001b[0m\u001b[0mhorizon_step\u001b[0m\u001b[1;33m]\u001b[0m \u001b[1;33m=\u001b[0m \u001b[0mnp\u001b[0m\u001b[1;33m.\u001b[0m\u001b[0marray\u001b[0m\u001b[1;33m(\u001b[0m\u001b[0mlist\u001b[0m\u001b[1;33m(\u001b[0m\u001b[0mrec_buffer\u001b[0m\u001b[1;33m)\u001b[0m\u001b[1;33m[\u001b[0m\u001b[1;33m:\u001b[0m\u001b[0mhorizon\u001b[0m\u001b[1;33m]\u001b[0m\u001b[1;33m)\u001b[0m\u001b[1;33m\u001b[0m\u001b[0m\n\u001b[1;32m---> 39\u001b[1;33m         \u001b[0mnovelty_calc_matrix\u001b[0m\u001b[1;33m[\u001b[0m\u001b[0mhorizon\u001b[0m\u001b[1;33m:\u001b[0m\u001b[1;36m2\u001b[0m\u001b[1;33m*\u001b[0m\u001b[0mhorizon\u001b[0m\u001b[1;33m,\u001b[0m \u001b[0mhorizon\u001b[0m\u001b[1;33m:\u001b[0m\u001b[1;36m2\u001b[0m\u001b[1;33m*\u001b[0m\u001b[0mhorizon\u001b[0m\u001b[1;33m]\u001b[0m \u001b[1;33m=\u001b[0m \u001b[0mnp\u001b[0m\u001b[1;33m.\u001b[0m\u001b[0marray\u001b[0m\u001b[1;33m(\u001b[0m\u001b[0mlist\u001b[0m\u001b[1;33m(\u001b[0m\u001b[0mrec_buffer\u001b[0m\u001b[1;33m)\u001b[0m\u001b[1;33m[\u001b[0m\u001b[0mhorizon\u001b[0m\u001b[1;33m:\u001b[0m\u001b[1;36m2\u001b[0m\u001b[1;33m*\u001b[0m\u001b[0mhorizon\u001b[0m\u001b[1;33m]\u001b[0m\u001b[1;33m)\u001b[0m\u001b[1;33m\u001b[0m\u001b[0m\n\u001b[0m\u001b[0;32m     40\u001b[0m \u001b[1;33m\u001b[0m\u001b[0m\n\u001b[0;32m     41\u001b[0m         \u001b[1;31m#print(np.shape(R_CQ))\u001b[0m\u001b[1;33m\u001b[0m\u001b[1;33m\u001b[0m\u001b[0m\n",
      "\u001b[1;31mValueError\u001b[0m: could not broadcast input array from shape (0) into shape (256,256)"
     ]
    }
   ],
   "source": [
    "blocksize = n_blocks * 1/sr * framesize #seconds\n",
    "\n",
    "horizon = 4 * n_blocks \n",
    "horizon_step = horizon//2\n",
    "\n",
    "duration = get_audiofile_duration(filename)\n",
    "segments = np.arange(0,180,blocksize) # replace fixed value with duration!\n",
    "\n",
    "kernel = create_kernel(kernel_size)\n",
    "\n",
    "feature_buffer.clear()\n",
    "rec_buffer.clear()\n",
    "recurrence_buffer = []\n",
    "novelty_buffer = []\n",
    "\n",
    "novelty_calc_matrix = np.zeros((2*horizon, 2*horizon))\n",
    "\n",
    "# iterate through the whole file\n",
    "for i, block in enumerate(segments):\n",
    "    print(\"@block: \", block)\n",
    "    y = load(filename, sr=sr, mono=True, offset=block, duration=blocksize)[0]\n",
    "    # constant Q transform\n",
    "    CQ = librosa.core.cqt(y, sr=sr, hop_length=framesize, fmin=None, n_bins=feature_dim, bins_per_octave=12, tuning=None, resolution=2, aggregate=None, norm=1, sparsity=0.01)\n",
    "#    print(\"CQ shape:\", np.shape(CQ))\n",
    "    feature_buffer.extend(CQ.T)\n",
    "#    print(np.shape(list(feature_buffer)))\n",
    "    while len(feature_buffer) >= horizon:\n",
    "        features = [feature_buffer.popleft() for x in range(0, horizon_step)]\n",
    "        features.extend(list(feature_buffer)[:horizon_step])\n",
    "        # compute recurrence matrix\n",
    "#        R_CQ = librosa.segment.recurrence_matrix(np.array(list(feature_buffer)[:horizon]).T, k=None, width=1, metric='sqeuclidean', sym=True, axis=-1)       \n",
    "        R_CQ = librosa.segment.recurrence_matrix(np.array(features).T, k=None, width=1, metric='sqeuclidean', sym=True, axis=-1)\n",
    "#        rec_buffer.extend(R_CQ[:horizon_step, :horizon_step])\n",
    "        rec_buffer.extend(R_CQ)\n",
    "    \n",
    "    while len(rec_buffer) >= 3*horizon:  \n",
    "        novelty_calc_matrix[:horizon, :horizon] = [rec_buffer.popleft() for x in range(0, horizon)]\n",
    "        novelty_calc_matrix[horizon_step:horizon+horizon_step, horizon_step:horizon+horizon_step] = np.array(list(rec_buffer)[:horizon])\n",
    "        novelty_calc_matrix[horizon:2*horizon, horizon:2*horizon] = np.array(list(rec_buffer)[horizon:2*horizon])\n",
    "        \n",
    "        #print(np.shape(R_CQ))\n",
    "#         if recurrence_buffer: # check if it's empty\n",
    "#             recurrence_buffer.append(R_CQ[-1])\n",
    "#         else:\n",
    "#             recurrence_buffer.extend(R_CQ)\n",
    "#        for j in range(0,)\n",
    "#        feature_buffer.popleft() # throw away one feature vector\n",
    "\n",
    "#        novelty = correlate2d_diagonal(R_CQ, kernel)\n",
    "\n",
    "#     print(\"feature buffer:\", len(feature_buffer))        \n",
    "#     print(\"feature buffer pop shape:\", np.shape(feature_buffer.popleft()))\n",
    "#    feature_buffer.pop\n",
    "    # recurrence matrix\n",
    "#    R_CQ = recurrence_matrix(CQ, k=None, width=1, metric='sqeuclidean', sym=True, axis=-1)\n",
    "#    print(np.shape(R_CQ))"
   ]
  },
  {
   "cell_type": "code",
   "execution_count": 57,
   "metadata": {
    "collapsed": false
   },
   "outputs": [
    {
     "data": {
      "text/plain": [
       "(715, 256)"
      ]
     },
     "execution_count": 57,
     "metadata": {},
     "output_type": "execute_result"
    }
   ],
   "source": [
    "#R_CQ = librosa.segment.recurrence_matrix(np.array(list(feature_buffer)).T, k=None, width=1, metric='sqeuclidean', sym=True, axis=-1)\n",
    "np.shape(recurrence_buffer)\n",
    "#print(len(list(feature_buffer)))\n",
    "#print(feature_buffer.count)"
   ]
  },
  {
   "cell_type": "code",
   "execution_count": 77,
   "metadata": {
    "collapsed": false
   },
   "outputs": [
    {
     "data": {
      "text/plain": [
       "<matplotlib.text.Text at 0x10115898>"
      ]
     },
     "execution_count": 77,
     "metadata": {},
     "output_type": "execute_result"
    },
    {
     "data": {
      "image/png": "[encoded data removed]",
      "text/plain": [
       "<matplotlib.figure.Figure at 0xcd1bf60>"
      ]
     },
     "metadata": {},
     "output_type": "display_data"
    }
   ],
   "source": [
    "plt.figure(figsize=(18,8))\n",
    "\n",
    "librosa.display.specshow(np.array(recurrence_buffer).T)\n",
    "\n",
    "plt.title('CQ Recurrence Matrix')"
   ]
  },
  {
   "cell_type": "code",
   "execution_count": null,
   "metadata": {
    "collapsed": true
   },
   "outputs": [],
   "source": [
    "plt.figure(figsize=(12,4))\n",
    "plt.plot(novelty)\n",
    "plt.ylabel('Novelty')\n",
    "plt.show()"
   ]
  }
 ],
 "metadata": {
  "kernelspec": {
   "display_name": "Python 3",
   "language": "python",
   "name": "python3"
  },
  "language_info": {
   "codemirror_mode": {
    "name": "ipython",
    "version": 3
   },
   "file_extension": ".py",
   "mimetype": "text/x-python",
   "name": "python",
   "nbconvert_exporter": "python",
   "pygments_lexer": "ipython3",
   "version": "3.4.3"
  }
 },
 "nbformat": 4,
 "nbformat_minor": 0
}
